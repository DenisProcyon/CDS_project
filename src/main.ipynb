{
 "cells": [
  {
   "cell_type": "code",
   "execution_count": null,
   "metadata": {},
   "outputs": [],
   "source": [
    "import pandas as pd\n",
    "import numpy as np\n",
    "from pathlib import Path\n",
    "import os\n",
    "\n",
    "from preprocessor import Preprocessor\n",
    "from data_plotter import DataPlotter\n",
    "\n",
    "from models import BaseLinearModel, LinearModel, Ridge, Lasso"
   ]
  },
  {
   "cell_type": "code",
   "execution_count": null,
   "metadata": {},
   "outputs": [],
   "source": [
    "CWD = os.path.abspath('')"
   ]
  },
  {
   "cell_type": "code",
   "execution_count": null,
   "metadata": {},
   "outputs": [],
   "source": [
    "train_data_file = Path(CWD).parent / \"data/train.csv\"\n",
    "test_data_file = Path(CWD).parent / \"data/test.csv\"\n",
    "\n",
    "train_data, test_data = pd.read_csv(train_data_file), pd.read_csv(test_data_file)\n",
    "\n",
    "train_preprocessor = Preprocessor(train_data)\n",
    "test_preprocessor = Preprocessor(test_data)\n",
    "\n",
    "data_plotter = DataPlotter()"
   ]
  },
  {
   "cell_type": "code",
   "execution_count": null,
   "metadata": {},
   "outputs": [],
   "source": [
    "nan_columns = train_data.columns[train_data.isnull().sum() > 1]\n",
    "\n",
    "print(f'Columns that contain nan values - {nan_columns.to_list()}')\n",
    "\n",
    "data_plotter.plot_barchart(data=train_data.isnull().sum(), title=\"Nan values by columns\", xlabel=\"Number\", ylabel=\"Columns\")"
   ]
  },
  {
   "cell_type": "code",
   "execution_count": null,
   "metadata": {},
   "outputs": [],
   "source": [
    "for column in nan_columns.to_list():\n",
    "    print(f'Unique values for {column} - {train_data[column].unique()}')\n",
    "    data_plotter.plot_barchart(\n",
    "        data=train_data[column].value_counts(),\n",
    "        title=f'Unique values for {column}',\n",
    "        xlabel=\"Values\",\n",
    "        ylabel=\"Number\",\n",
    "        figsize=(10,6)\n",
    "    )"
   ]
  },
  {
   "cell_type": "code",
   "execution_count": null,
   "metadata": {},
   "outputs": [],
   "source": [
    "train_data = train_preprocessor.replace_nan_with_value(columns=[\"accident\", \"clean_title\"])\n",
    "train_data = train_preprocessor.replace_value_with_nan(columns=[\"fuel_type\"])\n",
    "\n",
    "data_plotter.plot_barchart(data=train_data.isnull().sum(), title=\"Nan values by columns after processing\", xlabel=\"Number\", ylabel=\"Columns\")"
   ]
  },
  {
   "cell_type": "code",
   "execution_count": null,
   "metadata": {},
   "outputs": [],
   "source": [
    "train_data = train_preprocessor.fill_na_values(column=\"fuel_type\")"
   ]
  },
  {
   "cell_type": "code",
   "execution_count": null,
   "metadata": {},
   "outputs": [],
   "source": [
    "train_data[\"engine\"].value_counts()"
   ]
  },
  {
   "cell_type": "code",
   "execution_count": null,
   "metadata": {},
   "outputs": [],
   "source": [
    "train_data = train_preprocessor.create_new_features(column=\"engine\")"
   ]
  },
  {
   "cell_type": "markdown",
   "metadata": {},
   "source": [
    "# This is shit, like 22% is too much, will drop for now"
   ]
  },
  {
   "cell_type": "code",
   "execution_count": null,
   "metadata": {},
   "outputs": [],
   "source": [
    "train_data['fuel_mismatch'] = train_data['fuel_type'].str.lower() != train_data['fuel_type_from_engine'].str.lower()\n",
    "\n",
    "mismatch_count = train_data['fuel_mismatch'].sum()\n",
    "total_count = len(train_data)\n",
    "\n",
    "print(f'Mismatched fuel types: {mismatch_count} out of {total_count} ({mismatch_count / total_count:.2%})')\n",
    "\n",
    "for i in range(len(train_data)):\n",
    "    if train_data[\"fuel_mismatch\"].iloc[i] and train_data['fuel_type_from_engine'].iloc[i] is not None:\n",
    "        print(f'{train_data['fuel_type'].iloc[i]}, {train_data['fuel_type_from_engine'].iloc[i]}')"
   ]
  },
  {
   "cell_type": "code",
   "execution_count": null,
   "metadata": {},
   "outputs": [],
   "source": [
    "train_data = train_data[~train_data['fuel_mismatch']].reset_index(drop=True)\n",
    "\n",
    "train_data = train_data.drop(columns=[\"fuel_mismatch\"])\n",
    "\n",
    "train_data = train_data.assign(fuel_type=train_data[\"fuel_type_from_engine\"]).drop(columns=[\"fuel_type_from_engine\"])"
   ]
  },
  {
   "cell_type": "code",
   "execution_count": null,
   "metadata": {},
   "outputs": [],
   "source": [
    "train_data = train_data.dropna(axis=1)\n",
    "train_data.isnull().sum()\n",
    "train_data.dtypes"
   ]
  },
  {
   "cell_type": "code",
   "execution_count": null,
   "metadata": {},
   "outputs": [],
   "source": [
    "data_plotter.plot_numerical_distribution(data=train_data, columns=[\"price\", \"milage\", \"model_year\"])"
   ]
  },
  {
   "cell_type": "code",
   "execution_count": null,
   "metadata": {},
   "outputs": [],
   "source": [
    "ctg_modes = {}\n",
    "for column in train_data.columns:\n",
    "    if train_data[column].dtype == \"int64\":\n",
    "        continue\n",
    "    if len(train_data[column].unique()) <= 10:\n",
    "        mode = \"one_hot\"\n",
    "    else:\n",
    "        mode = \"default\"\n",
    "\n",
    "    ctg_modes[column] = mode\n",
    "\n",
    "train_data = Preprocessor(train_data).transform_ctg_to_num(categories=ctg_modes)\n",
    "train_data.head()\n",
    "\n",
    "columns = []\n",
    "data_plotter.default_configs.color = \"red\"\n",
    "for column in train_data.columns:\n",
    "    if train_data[column].dtype == \"int64\":\n",
    "        columns.append(column)\n",
    "\n",
    "train_data.head()"
   ]
  }
 ],
 "metadata": {
  "kernelspec": {
   "display_name": "Python 3",
   "language": "python",
   "name": "python3"
  },
  "language_info": {
   "codemirror_mode": {
    "name": "ipython",
    "version": 3
   },
   "file_extension": ".py",
   "mimetype": "text/x-python",
   "name": "python",
   "nbconvert_exporter": "python",
   "pygments_lexer": "ipython3",
   "version": "3.12.2"
  }
 },
 "nbformat": 4,
 "nbformat_minor": 2
}
